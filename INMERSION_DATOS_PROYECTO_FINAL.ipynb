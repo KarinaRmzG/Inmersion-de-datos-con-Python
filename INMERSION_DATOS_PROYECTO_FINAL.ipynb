{
  "nbformat": 4,
  "nbformat_minor": 0,
  "metadata": {
    "colab": {
      "provenance": [],
      "include_colab_link": true
    },
    "kernelspec": {
      "name": "python3",
      "display_name": "Python 3"
    },
    "language_info": {
      "name": "python"
    }
  },
  "cells": [
    {
      "cell_type": "markdown",
      "metadata": {
        "id": "view-in-github",
        "colab_type": "text"
      },
      "source": [
        "<a href=\"https://colab.research.google.com/github/KarinaRmzG/Inmersion-de-datos-con-Python/blob/main/INMERSION_DATOS_PROYECTO_FINAL.ipynb\" target=\"_parent\"><img src=\"https://colab.research.google.com/assets/colab-badge.svg\" alt=\"Open In Colab\"/></a>"
      ]
    },
    {
      "cell_type": "markdown",
      "source": [
        "Bienvenido a nuestro primer encuentro de inmersión de datos."
      ],
      "metadata": {
        "id": "qGW8k7mWhP7O"
      }
    },
    {
      "cell_type": "code",
      "source": [
        "from google.colab import drive\n",
        "\n",
        "drive.mount('/content/drive')"
      ],
      "metadata": {
        "id": "Y2BMxIBqhcl7"
      },
      "execution_count": null,
      "outputs": []
    },
    {
      "cell_type": "code",
      "source": [
        "import pandas as pd\n",
        "\n",
        "inmuebles = pd.read_csv('/content/drive/MyDrive/Curso Python/inmuebles_bogota.csv') \n",
        "inmuebles.head()"
      ],
      "metadata": {
        "id": "S73Bs_z6j2QX"
      },
      "execution_count": null,
      "outputs": []
    },
    {
      "cell_type": "code",
      "source": [
        "datos_dane = pd.read_csv('/content/drive/MyDrive/inmersion_datos/datos_dane.csv')\n",
        "datos_dane.head()"
      ],
      "metadata": {
        "id": "_FRMQWjvvh9c"
      },
      "execution_count": null,
      "outputs": []
    },
    {
      "cell_type": "code",
      "source": [
        "datos_dane.shape"
      ],
      "metadata": {
        "id": "ellsedvc5lUh"
      },
      "execution_count": null,
      "outputs": []
    },
    {
      "cell_type": "code",
      "source": [
        "datos_dane.info()"
      ],
      "metadata": {
        "id": "Yofu0Hmu5zM-"
      },
      "execution_count": null,
      "outputs": []
    },
    {
      "cell_type": "code",
      "source": [
        "dic_dane = {\n",
        "       'NVCBP4':'CONJUNTO_CERRADO',\n",
        "       'NVCBP14A':'FABRICAS_CERCA', 'NVCBP14D':'TERMINALES_BUS', 'NVCBP14E':'BARES_DISCO', \n",
        "       'NVCBP14G':'OSCURO_PELIGROSO', 'NVCBP15A':'RUIDO', 'NVCBP15C':'INSEGURIDAD',\n",
        "       'NVCBP15F':'BASURA_INADECUADA', 'NVCBP15G':'INVASION','NVCBP16A3':'MOV_ADULTOS_MAYORES', \n",
        "       'NVCBP16A4':'MOV_NINOS_BEBES',\n",
        "       'NPCKP17':'OCUPACION','NPCKP18':'CONTRATO','NPCKP23':'SALARIO_MES', \n",
        "       'NPCKP44A':'DONDE_TRABAJA', 'NPCKPN62A':'DECLARACION_RENTA', \n",
        "       'NPCKPN62B':'VALOR_DECLARACION', 'NPCKP64A':'PERDIDA_TRABAJO_C19', \n",
        "       'NPCKP64E':'PERDIDA_INGRESOS_C19',\n",
        "       'NHCCP3':'TIENE_ESCRITURA', 'NHCCP6':'ANO_COMPRA', 'NHCCP7':'VALOR_COMPRA', 'NHCCP8_1':'HIPOTECA_CRED_BANCO',\n",
        "       'NHCCP8_2':'OTRO_CRED_BANCO', 'NHCCP8_3':'CRED_FNA', 'NHCCP8_6':'PRESTAMOS_AMIGOS',\n",
        "       'NHCCP8_7':'CESANTIAS', 'NHCCP8_8':'AHORROS', 'NHCCP8_9':'SUBSIDIOS',\n",
        "       'NHCCP9':'CUANTO_PAGARIA_MENSUAL', 'NHCCP11':'PLANES_ADQUIRIR_VIVIENDA', \n",
        "       'NHCCP11A':'MOTIVO_COMPRA', 'NHCCP12':'RAZON_NO_ADQ_VIV', 'NHCCP41':'TIENE_CARRO','NHCCP41A':'CUANTOS_CARROS',\n",
        "       'NHCCP47A':'TIENE_PERROS', 'NHCCP47B':'TIENE_GATOS', 'NHCLP2A':'VICTIMA_ATRACO', 'NHCLP2B':'VICTIMA_HOMICIDIO', \n",
        "       'NHCLP2C':'VICTIMA_PERSECUSION',\n",
        "       'NHCLP2E':'VICTIMA_ACOSO', 'NHCLP4':'COMO_VIVE_ECON', 'NHCLP5':'COMO_NIVEL_VIDA', \n",
        "       'NHCLP8AB':'REACCION_OPORTUNA_POLICIA', 'NHCLP8AE':'COMO_TRANSPORTE_URBANO', 'NHCLP10':'SON_INGRESOS_SUFICIENTES',\n",
        "       'NHCLP11':'SE_CONSIDERA_POBRE', 'NHCLP29_1A':'MED_C19_TRABAJO', \n",
        "       'NHCLP29_1C':'MED_C19_CAMBIO_VIVIENDA', 'NHCLP29_1E':'MED_C19_ENDEUDAMIENTO', \n",
        "       'NHCLP29_1F':'MED_C19_VENTA_BIENES','NPCHP4':'NIVEL_EDUCATIVO'\n",
        "       }\n",
        "\n",
        "datos_dane = datos_dane.rename(columns=dic_dane)\n",
        "datos_dane.columns"
      ],
      "metadata": {
        "id": "Re-MjyuD6HsK"
      },
      "execution_count": null,
      "outputs": []
    },
    {
      "cell_type": "code",
      "source": [
        "datos_dane.info()"
      ],
      "metadata": {
        "id": "NMDS6Q7H7DXD"
      },
      "execution_count": null,
      "outputs": []
    },
    {
      "cell_type": "code",
      "source": [
        "datos_dane.groupby('NOMBRE_ESTRATO')[['CONJUNTO_CERRADO','INSEGURIDAD','TERMINALES_BUS','BARES_DISCO','RUIDO','OSCURO_PELIGROSO','SALARIO_MES','TIENE_ESCRITURA','PERDIDA_TRABAJO_C19','PERDIDA_INGRESOS_C19','PLANES_ADQUIRIR_VIVIENDA']].mean().head()"
      ],
      "metadata": {
        "id": "xppkbp-27UiF"
      },
      "execution_count": null,
      "outputs": []
    },
    {
      "cell_type": "code",
      "source": [
        "datos = datos_dane[['NOMBRE_ESTRATO','CONJUNTO_CERRADO','INSEGURIDAD','TERMINALES_BUS','BARES_DISCO','RUIDO','OSCURO_PELIGROSO','SALARIO_MES','TIENE_ESCRITURA','PERDIDA_TRABAJO_C19','PERDIDA_INGRESOS_C19','PLANES_ADQUIRIR_VIVIENDA']].replace(2,0)\n",
        "datos"
      ],
      "metadata": {
        "id": "iJ3wxng38_oe"
      },
      "execution_count": null,
      "outputs": []
    },
    {
      "cell_type": "code",
      "source": [
        "datos.loc[datos.NOMBRE_ESTRATO == '20 de Julio']"
      ],
      "metadata": {
        "id": "AHD_p6AX9qHv"
      },
      "execution_count": null,
      "outputs": []
    },
    {
      "cell_type": "code",
      "source": [
        "datos_tratados = datos.groupby('NOMBRE_ESTRATO')[['CONJUNTO_CERRADO','INSEGURIDAD','TERMINALES_BUS','BARES_DISCO','RUIDO','OSCURO_PELIGROSO','SALARIO_MES','TIENE_ESCRITURA','PERDIDA_TRABAJO_C19','PERDIDA_INGRESOS_C19','PLANES_ADQUIRIR_VIVIENDA']].mean()\n",
        "datos_tratados"
      ],
      "metadata": {
        "id": "wWot1M80913x"
      },
      "execution_count": null,
      "outputs": []
    },
    {
      "cell_type": "code",
      "source": [
        "pd.merge(inmuebles,datos_tratados, left_on='UPZ', right_on='NOMBRE_ESTRATO', how='left')"
      ],
      "metadata": {
        "id": "pOQGlt_y-X-b"
      },
      "execution_count": null,
      "outputs": []
    },
    {
      "cell_type": "code",
      "source": [
        "datos_ml = pd.merge(inmuebles,datos_tratados, left_on='UPZ', right_on='NOMBRE_ESTRATO', how='left')\n",
        "datos_ml.info()"
      ],
      "metadata": {
        "id": "-kYkL6PAAbki"
      },
      "execution_count": null,
      "outputs": []
    },
    {
      "cell_type": "code",
      "source": [
        "upz = pd.read_csv('/content/drive/MyDrive/inmersion_datos/cod_upz.csv')\n",
        "datos_ml = pd.merge(datos_ml,upz,left_on='UPZ',right_on='NOMBRE_ESTRATO', how='inner')\n",
        "datos_ml.head()"
      ],
      "metadata": {
        "id": "SwIazzvUA5ku"
      },
      "execution_count": null,
      "outputs": []
    },
    {
      "cell_type": "code",
      "source": [
        "datos_ml.shape"
      ],
      "metadata": {
        "id": "fpad2LgIBpqr"
      },
      "execution_count": null,
      "outputs": []
    },
    {
      "cell_type": "code",
      "source": [
        "datos_ml.info()"
      ],
      "metadata": {
        "id": "87zjSRJRCg-b"
      },
      "execution_count": null,
      "outputs": []
    },
    {
      "cell_type": "code",
      "source": [
        "plt.figure(figsize=(10,8))\n",
        "sns.boxplot(data=datos_ml, y = 'Precio_Millon')\n",
        "plt.show()"
      ],
      "metadata": {
        "id": "LExip3vWCmqT"
      },
      "execution_count": null,
      "outputs": []
    },
    {
      "cell_type": "code",
      "source": [
        "datos_ml.query('Precio_Millon > 5000 | Precio_Millon < 60')"
      ],
      "metadata": {
        "id": "qhB4ADehD3MI"
      },
      "execution_count": null,
      "outputs": []
    },
    {
      "cell_type": "code",
      "source": [
        "datos_ml = datos_ml.query('Precio_Millon < 1200 & Precio_Millon > 60')\n",
        "datos_ml"
      ],
      "metadata": {
        "id": "yPx6A9dPEXJx"
      },
      "execution_count": null,
      "outputs": []
    },
    {
      "cell_type": "code",
      "source": [
        "plt.figure(figsize=(10,8))\n",
        "sns.boxplot(data=datos_ml, y = 'Precio_Millon')\n",
        "plt.show()"
      ],
      "metadata": {
        "id": "X0LlyROjFEYh"
      },
      "execution_count": null,
      "outputs": []
    },
    {
      "cell_type": "code",
      "source": [
        "datos_ml['SALARIO_ANUAL_MI'] = datos_ml['SALARIO_MES']*12/1000000\n",
        "datos_ml['SALARIO_ANUAL_MI']"
      ],
      "metadata": {
        "id": "ATM9WJ1fFMhg"
      },
      "execution_count": null,
      "outputs": []
    },
    {
      "cell_type": "code",
      "source": [
        "plt.figure(figsize=(10,8))\n",
        "sns.scatterplot(data=datos_ml, x='SALARIO_ANUAL_MI',y ='Valor_m2_Millon')\n",
        "plt.ylim((0,15))\n",
        "plt.show()"
      ],
      "metadata": {
        "id": "gkPgDVDSGSkQ"
      },
      "execution_count": null,
      "outputs": []
    },
    {
      "cell_type": "code",
      "source": [
        "datos_ml.corr()"
      ],
      "metadata": {
        "id": "GYFPJ3FYG9-z"
      },
      "execution_count": null,
      "outputs": []
    },
    {
      "cell_type": "code",
      "source": [
        "plt.figure(figsize=(18, 8))\n",
        "#https://www.tylervigen.com/spurious-correlations\n",
        "#mascara = np.triu(np.ones_like(datos_ml.corr(), dtype=bool)) mask=mascara,\n",
        "heatmap = sns.heatmap(datos_ml.corr(), vmin=-1, vmax=1, annot=True, cmap='BrBG')\n",
        "heatmap.set_title('Correlación de las variables', fontdict={'fontsize':18}, pad=16);"
      ],
      "metadata": {
        "id": "KaT7ovm6I4L4"
      },
      "execution_count": null,
      "outputs": []
    },
    {
      "cell_type": "code",
      "source": [
        "from sklearn.linear_model import LinearRegression\n",
        "from sklearn.model_selection import train_test_split\n",
        "\n",
        "X = datos_ml[['COD_UPZ_GRUPO']]\n",
        "y = datos_ml['Precio_Millon']\n",
        "\n",
        "X_train, X_test, y_train, y_test = train_test_split(X,y,test_size=0.25,random_state=99)"
      ],
      "metadata": {
        "id": "XGBYuij4Juqe"
      },
      "execution_count": null,
      "outputs": []
    },
    {
      "cell_type": "code",
      "source": [
        "X_train"
      ],
      "metadata": {
        "id": "Ny20sfLyOWUg"
      },
      "execution_count": null,
      "outputs": []
    },
    {
      "cell_type": "code",
      "source": [
        "X_test"
      ],
      "metadata": {
        "id": "B4Bk2a9TOYrQ"
      },
      "execution_count": null,
      "outputs": []
    },
    {
      "cell_type": "code",
      "source": [
        "y_train"
      ],
      "metadata": {
        "id": "8AU3CeLSOdcu"
      },
      "execution_count": null,
      "outputs": []
    },
    {
      "cell_type": "code",
      "source": [
        "modelo = LinearRegression()"
      ],
      "metadata": {
        "id": "DBNN5BSROgj7"
      },
      "execution_count": null,
      "outputs": []
    },
    {
      "cell_type": "code",
      "source": [
        "modelo.fit(X_train,y_train)"
      ],
      "metadata": {
        "id": "KoP_pu_EOyO-"
      },
      "execution_count": null,
      "outputs": []
    },
    {
      "cell_type": "code",
      "source": [
        "y_predict_test = modelo.predict(X_test)"
      ],
      "metadata": {
        "id": "QXhEgBXAO3q2"
      },
      "execution_count": null,
      "outputs": []
    },
    {
      "cell_type": "code",
      "source": [
        "from sklearn.metrics import mean_absolute_error, r2_score\n",
        "\n",
        "baseline_mae = mean_absolute_error(y_test, y_predict_test)\n",
        "baseline_r2 = r2_score(y_test, y_predict_test)\n",
        "print(baseline_mae,baseline_r2)"
      ],
      "metadata": {
        "id": "rl4gRB5QPMjQ"
      },
      "execution_count": null,
      "outputs": []
    },
    {
      "cell_type": "code",
      "source": [
        "from sklearn.metrics import mean_absolute_error, r2_score\n",
        "\n",
        "baseline_mae = mean_absolute_error(y_test, y_predict_test)\n",
        "baseline_r2 = r2_score(y_test, y_predict_test)\n",
        "print(baseline_mae,baseline_r2)"
      ],
      "metadata": {
        "id": "wOuH3OubSIVN"
      },
      "execution_count": null,
      "outputs": []
    },
    {
      "cell_type": "code",
      "source": [
        "X = datos_ml[['COD_UPZ_GRUPO','Habitaciones','Banos','CONJUNTO_CERRADO','SALARIO_ANUAL_MI','TIENE_ESCRITURA']] \n",
        "\n",
        "y = datos_ml[\"Precio_Millon\"]\n",
        "\n",
        "X_train, X_test, y_train, y_test = train_test_split(X, y, test_size = 0.25, random_state = 99)\n",
        "modelo_1 = LinearRegression()\n",
        "modelo_1.fit(X_train, y_train)\n",
        "y_predict_test = modelo_1.predict(X_test)\n",
        "y_predict_train = modelo_1.predict(X_train)\n",
        "mae_test = mean_absolute_error(y_test, y_predict_test)\n",
        "r2_test = r2_score(y_test, y_predict_test)\n",
        "mae_train = mean_absolute_error(y_train, y_predict_train)\n",
        "r2_train = r2_score(y_train, y_predict_train)\n",
        "print(mae_test,r2_test)\n",
        "print(mae_train,r2_train)"
      ],
      "metadata": {
        "id": "4F-I2Ua_QDi4"
      },
      "execution_count": null,
      "outputs": []
    },
    {
      "cell_type": "code",
      "source": [
        "X = datos_ml[['COD_UPZ_GRUPO','Habitaciones','Banos','CONJUNTO_CERRADO','SALARIO_ANUAL_MI','TIENE_ESCRITURA']] \n",
        "\n",
        "y = datos_ml[\"Precio_Millon\"]\n",
        "\n",
        "X_train, X_test, y_train, y_test = train_test_split(X, y, test_size = 0.25, random_state = 99)\n",
        "modelo_1 = LinearRegression()\n",
        "modelo_1.fit(X_train, y_train)\n",
        "y_predict_test = modelo_1.predict(X_test)\n",
        "y_predict_train = modelo_1.predict(X_train)\n",
        "mae_test = mean_absolute_error(y_test, y_predict_test)\n",
        "r2_test = r2_score(y_test, y_predict_test)\n",
        "mae_train = mean_absolute_error(y_train, y_predict_train)\n",
        "r2_train = r2_score(y_train, y_predict_train)\n",
        "print(mae_test,r2_test)\n",
        "print(mae_train,r2_train)"
      ],
      "metadata": {
        "id": "R5G7LceUQ9XZ"
      },
      "execution_count": null,
      "outputs": []
    },
    {
      "cell_type": "code",
      "source": [
        "modelo_1.predict([[816,3,2,1,50,1]])"
      ],
      "metadata": {
        "id": "KkP_y96pUqvA"
      },
      "execution_count": null,
      "outputs": []
    }
  ]
}